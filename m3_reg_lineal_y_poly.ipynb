{
 "cells": [
  {
   "cell_type": "markdown",
   "metadata": {},
   "source": [
    "### Clase 10-11: Aprendizaje supervisado, regresión"
   ]
  },
  {
   "cell_type": "markdown",
   "metadata": {},
   "source": [
    "Definición: Algoritmos que aprenden de una DB con pares tipo i/o\n",
    "+ Aprender una función que permita obtener los valores de output a partir del input.\n",
    "+ Con output contínuo: regresión\n",
    "+ En clasificación: output discreto (binario o multiclase)\n",
    "+ Tipos de regresión: Lineal, Polinomial, con penalización, logística"
   ]
  },
  {
   "cell_type": "markdown",
   "metadata": {},
   "source": [
    "Otros modelos comunes:\n",
    "+ Naive Bayes (basado en t. de Bayes)\n",
    "+ Árboles de decisión, bosque aleatorio para clasificación, bosque aleatorio para regresión. Estos buscan posicionar elementos similares en las hojas."
   ]
  },
  {
   "cell_type": "code",
   "execution_count": 1,
   "metadata": {},
   "outputs": [],
   "source": [
    "#REGRESION LINEAL con un descriptor\n",
    "# y = theta0 + theta1*x1 + e\n",
    "# theta0: intercepto o bias\n",
    "# xi variable independiente o descriptor, thetai parametros del modelo\n",
    "# para los predictores (y) y los estimadores(theta) se sobrepone ^ en la notación\n",
    "# una primera estimacion de desempeño es el error cuadratico medio en el eje Y\n",
    "# minimizar el error cuadratico medio sobre todos los puntos\n",
    "# existe una solución cerrada analítica por lo que no es necesaria la iteración\n",
    "# para obtener los estimadores\n",
    "\n",
    "import numpy as np\n",
    "import matplotlib.pyplot as plt"
   ]
  },
  {
   "cell_type": "code",
   "execution_count": 28,
   "metadata": {},
   "outputs": [
    {
     "data": {
      "text/plain": [
       "array([[4.74106117],\n",
       "       [3.76507533]])"
      ]
     },
     "execution_count": 28,
     "metadata": {},
     "output_type": "execute_result"
    }
   ],
   "source": [
    "#CONSTRUCCION DEL MODELO\n",
    "#setear seed\n",
    "np.random.seed(2)\n",
    "\n",
    "X = 3*np.random.rand(100,1) #100x1\n",
    "y = 5+3.5*X + np.random.randn(100,1)\n",
    "\n",
    "#np.c_ : Translates slice objects to concatenation along the second axis.\n",
    "X_ = np.c_[np.ones((100,1)),X]\n",
    "\n",
    "theta_opt = np.linalg.inv(X_.T.dot(X_)).dot(X_.T).dot(y)\n",
    "theta_opt"
   ]
  },
  {
   "cell_type": "code",
   "execution_count": 29,
   "metadata": {},
   "outputs": [
    {
     "data": {
      "text/plain": [
       "array([[ 4.74106117],\n",
       "       [16.03628717]])"
      ]
     },
     "execution_count": 29,
     "metadata": {},
     "output_type": "execute_result"
    }
   ],
   "source": [
    "#PREDICCION\n",
    "X_nuevo = np.array([[0],[3]])\n",
    "X_aux = np.c_[np.ones((2,1)), X_nuevo]\n",
    "y_pred = X_aux.dot(theta_opt)\n",
    "y_pred"
   ]
  },
  {
   "cell_type": "code",
   "execution_count": 33,
   "metadata": {},
   "outputs": [
    {
     "data": {
      "image/png": "[encoded data removed]",
      "text/plain": [
       "<Figure size 432x288 with 1 Axes>"
      ]
     },
     "metadata": {
      "needs_background": "light"
     },
     "output_type": "display_data"
    }
   ],
   "source": [
    "plt.plot(X_nuevo,y_pred,'r--')\n",
    "plt.plot(X,y,'b.')\n",
    "plt.ylabel('Y')\n",
    "plt.xlabel('X')\n",
    "plt.axis([0, 4, 0, 22])\n",
    "plt.legend(['regresion lineal','muestra'])\n",
    "plt.show()"
   ]
  },
  {
   "cell_type": "markdown",
   "metadata": {},
   "source": [
    "#### SUPUESTOS REGRESION:\n",
    "+ Relación lineal entre variable dep-ind\n",
    "+ No hay multicolinealidad (variables ind no pueden explicar lo mismo)\n",
    "+ Distribución normal de error\n",
    "+ Variable ind libre de ruido\n",
    "+ Homeocedasticidad: la varianza del error es constante a lo largo de las observaciones"
   ]
  },
  {
   "cell_type": "code",
   "execution_count": 2,
   "metadata": {},
   "outputs": [],
   "source": [
    "### REGRESION POLINOMIAL\n",
    "#y = th_0 + th_1*x_1+...+th_p*x_1^p\n",
    "#también es lineal en los parámetros y tiene solución cerrada\n",
    "\n",
    "import numpy as np\n",
    "import pandas as pd\n",
    "import matplotlib.pyplot as plt\n",
    "from sklearn.preprocessing import PolynomialFeatures\n",
    "from sklearn.linear_model import LinearRegression"
   ]
  },
  {
   "cell_type": "code",
   "execution_count": 4,
   "metadata": {},
   "outputs": [
    {
     "data": {
      "text/html": [
       "<div>\n",
       "<style scoped>\n",
       "    .dataframe tbody tr th:only-of-type {\n",
       "        vertical-align: middle;\n",
       "    }\n",
       "\n",
       "    .dataframe tbody tr th {\n",
       "        vertical-align: top;\n",
       "    }\n",
       "\n",
       "    .dataframe thead th {\n",
       "        text-align: right;\n",
       "    }\n",
       "</style>\n",
       "<table border=\"1\" class=\"dataframe\">\n",
       "  <thead>\n",
       "    <tr style=\"text-align: right;\">\n",
       "      <th></th>\n",
       "      <th>tiempo</th>\n",
       "      <th>magnitud</th>\n",
       "    </tr>\n",
       "  </thead>\n",
       "  <tbody>\n",
       "    <tr>\n",
       "      <th>1217</th>\n",
       "      <td>2689.815637</td>\n",
       "      <td>-5.168</td>\n",
       "    </tr>\n",
       "    <tr>\n",
       "      <th>1218</th>\n",
       "      <td>2690.973900</td>\n",
       "      <td>-5.236</td>\n",
       "    </tr>\n",
       "    <tr>\n",
       "      <th>1219</th>\n",
       "      <td>2707.923912</td>\n",
       "      <td>-5.249</td>\n",
       "    </tr>\n",
       "    <tr>\n",
       "      <th>1220</th>\n",
       "      <td>2717.867118</td>\n",
       "      <td>-5.305</td>\n",
       "    </tr>\n",
       "    <tr>\n",
       "      <th>1221</th>\n",
       "      <td>2722.847778</td>\n",
       "      <td>-5.289</td>\n",
       "    </tr>\n",
       "  </tbody>\n",
       "</table>\n",
       "</div>"
      ],
      "text/plain": [
       "           tiempo  magnitud\n",
       "1217  2689.815637    -5.168\n",
       "1218  2690.973900    -5.236\n",
       "1219  2707.923912    -5.249\n",
       "1220  2717.867118    -5.305\n",
       "1221  2722.847778    -5.289"
      ]
     },
     "execution_count": 4,
     "metadata": {},
     "output_type": "execute_result"
    }
   ],
   "source": [
    "data = pd.read_csv('ts.csv')\n",
    "data.tail()"
   ]
  },
  {
   "cell_type": "code",
   "execution_count": 8,
   "metadata": {},
   "outputs": [
    {
     "data": {
      "image/png": "[encoded data removed]",
      "text/plain": [
       "<Figure size 432x288 with 1 Axes>"
      ]
     },
     "metadata": {
      "needs_background": "light"
     },
     "output_type": "display_data"
    }
   ],
   "source": [
    "#muestreo de magnitud de una estrella variable\n",
    "data_muestra = data.sample(200)\n",
    "plt.scatter(data_muestra['tiempo'],data_muestra['magnitud'],marker='.')\n",
    "plt.ylabel('magnitud')\n",
    "plt.xlabel('tiempo')\n",
    "plt.ylim(-5.4,-4.0)\n",
    "plt.show()\n"
   ]
  },
  {
   "cell_type": "code",
   "execution_count": 16,
   "metadata": {},
   "outputs": [
    {
     "data": {
      "text/plain": [
       "LinearRegression()"
      ]
     },
     "execution_count": 16,
     "metadata": {},
     "output_type": "execute_result"
    }
   ],
   "source": [
    "#ajuste polinomial\n",
    "RegLineal = LinearRegression()\n",
    "RegLineal.fit(data[['tiempo']],data['magnitud']) #variable ind, variable dep"
   ]
  },
  {
   "cell_type": "code",
   "execution_count": 17,
   "metadata": {},
   "outputs": [
    {
     "name": "stdout",
     "output_type": "stream",
     "text": [
      "-4.903673361574064 [-2.41096697e-05]\n"
     ]
    }
   ],
   "source": [
    "print(RegLineal.intercept_, RegLineal.coef_)"
   ]
  },
  {
   "cell_type": "code",
   "execution_count": 20,
   "metadata": {},
   "outputs": [
    {
     "name": "stdout",
     "output_type": "stream",
     "text": [
      "(50, 1)\n"
     ]
    }
   ],
   "source": [
    "x_lin = np.linspace(min(data['tiempo']),max(data['tiempo'])).reshape(-1,1)\n",
    "print(x_lin.shape)\n",
    "y_pred = RegLineal.predict(x_lin)"
   ]
  },
  {
   "cell_type": "code",
   "execution_count": 30,
   "metadata": {},
   "outputs": [
    {
     "data": {
      "image/png": "[encoded data removed]",
      "text/plain": [
       "<Figure size 432x288 with 1 Axes>"
      ]
     },
     "metadata": {
      "needs_background": "light"
     },
     "output_type": "display_data"
    }
   ],
   "source": [
    "plt.plot(x_lin,y_pred,color='orange')\n",
    "plt.plot(data['tiempo'],data['magnitud'],'.',color='k',markersize=1)\n",
    "plt.ylabel('mag')\n",
    "plt.ylim(-5.6,-3.8)\n",
    "plt.xlabel('t')\n",
    "plt.show()"
   ]
  },
  {
   "cell_type": "code",
   "execution_count": 40,
   "metadata": {},
   "outputs": [
    {
     "data": {
      "image/png": "[encoded data removed]",
      "text/plain": [
       "<Figure size 432x288 with 1 Axes>"
      ]
     },
     "metadata": {
      "needs_background": "light"
     },
     "output_type": "display_data"
    }
   ],
   "source": [
    "#santa cachucha, este ajuste es más inutil que mini ministro\n",
    "#vamos a un mayor orden\n",
    "poli = PolynomialFeatures(degree=5)\n",
    "model = LinearRegression()\n",
    "\n",
    "x = data['tiempo'].values.reshape(-1,1) #lo que sea que haya en la primera coma uno\n",
    "data_poly = poli.fit_transform(x)\n",
    "model.fit(data_poly, data['magnitud'])\n",
    "\n",
    "x_lin = np.linspace(min(data['tiempo']),max(data['tiempo'])).reshape(-1,1)\n",
    "data_poly_plot = poli.fit_transform(x_lin)\n",
    "y_pred = model.predict(data_poly_plot)\n",
    "\n",
    "\n",
    "plt.plot(x_lin,y_pred,color='blue')\n",
    "plt.plot(data['tiempo'],data['magnitud'],'.',color='k',markersize=1)\n",
    "plt.ylabel('mag')\n",
    "plt.ylim(-5.6,-3.8)\n",
    "plt.xlabel('t')\n",
    "plt.show()\n"
   ]
  },
  {
   "cell_type": "code",
   "execution_count": 41,
   "metadata": {},
   "outputs": [
    {
     "data": {
      "text/plain": [
       "(1222, 6)"
      ]
     },
     "execution_count": 41,
     "metadata": {},
     "output_type": "execute_result"
    }
   ],
   "source": [
    "data_poly.shape #descriptor lineal + 5 cuadráticos"
   ]
  },
  {
   "cell_type": "code",
   "execution_count": null,
   "metadata": {},
   "outputs": [],
   "source": []
  },
  {
   "cell_type": "code",
   "execution_count": null,
   "metadata": {},
   "outputs": [],
   "source": []
  },
  {
   "cell_type": "code",
   "execution_count": null,
   "metadata": {},
   "outputs": [],
   "source": []
  },
  {
   "cell_type": "code",
   "execution_count": null,
   "metadata": {},
   "outputs": [],
   "source": []
  }
 ],
 "metadata": {
  "kernelspec": {
   "display_name": "Python 3 (ipykernel)",
   "language": "python",
   "name": "python3"
  },
  "language_info": {
   "codemirror_mode": {
    "name": "ipython",
    "version": 3
   },
   "file_extension": ".py",
   "mimetype": "text/x-python",
   "name": "python",
   "nbconvert_exporter": "python",
   "pygments_lexer": "ipython3",
   "version": "3.9.12"
  }
 },
 "nbformat": 4,
 "nbformat_minor": 4
}
