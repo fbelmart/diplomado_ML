{
 "cells": [
  {
   "cell_type": "markdown",
   "metadata": {},
   "source": [
    "## INTRODUCCIÓN\n",
    "Definiciones:\n",
    "1) Conjunto de métodos que detectan automáticamente patrones complejos en los datos, estos patrones pueden ser utilizados para predecir el futuro.  \n",
    "2) Un programa de computadora aprende de la experiencia E con respecto a alguna tarea T y alguna medida de rendimiento P, si su rendimiento en T, medido por P, mejora con la experiencia E.  \n",
    "3) Campo de estudios que entrega a los computadores la habilidad de aprender sin ser explícitamente programados.  \n",
    "\n",
    "\n",
    "**EXPERIENCIA (Datos), TAREA, RENDIMIENTO**\n",
    "\n"
   ]
  },
  {
   "cell_type": "markdown",
   "metadata": {},
   "source": [
    "### Tipos de problemas de aprendizaje\n",
    "Esta elección depende de la tarea a realizar y del tipo de datos con que se cuenta. \n",
    "\n",
    "1. Aprendizaje supervisado: tareas de clasificación, regresión.\n",
    "+ DB donde se identifica claramente pares I/O  \n",
    "+ Objetivo: aprender una fx (clasificador) que permita predecir el output por medio del input  \n",
    "+ ej: biometría, nivel de contaminantes, clasificación de estrellas/galaxias, comportamiento de pago\n",
    "    \n",
    "2. Aprendizaje no supervisado: tareas de clustering, reducción de dimensionalidad.  \n",
    "+ No se tiene / no existe output definido\n",
    "+ Busca identificar patrones ocultos\n",
    "+ ej: segmentación de clientes, reglas de compras (bundles), generación de música e imágenes artificiales\n",
    "\n",
    "3. Aprendizaje reforzado: navegación, decisiones en tiempo real.\n",
    "+ Agente interactúa dentro de un ambiente y recibe evaluación respecto a sus acciones\n",
    "+ No se informa respecto a la acción óptima para el objetivo, es un lazo cerrado con el refuerzo como una caja negra\n",
    "+ ej: videojuegos, ajedrez, políticas de inventario\n",
    "\n",
    "\n"
   ]
  }
 ],
 "metadata": {
  "kernelspec": {
   "display_name": "Python 3",
   "language": "python",
   "name": "python3"
  },
  "language_info": {
   "codemirror_mode": {
    "name": "ipython",
    "version": 3
   },
   "file_extension": ".py",
   "mimetype": "text/x-python",
   "name": "python",
   "nbconvert_exporter": "python",
   "pygments_lexer": "ipython3",
   "version": "3.7.9"
  }
 },
 "nbformat": 4,
 "nbformat_minor": 4
}
