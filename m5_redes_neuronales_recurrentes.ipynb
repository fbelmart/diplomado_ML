{
 "cells": [
  {
   "cell_type": "markdown",
   "metadata": {},
   "source": [
    "### Redes recurrentes"
   ]
  },
  {
   "cell_type": "markdown",
   "metadata": {},
   "source": [
    "+ agregan noción de memoria (tiempo) para el aprendizaje\n",
    "+ incluso si se pierde información entre etapa y etapa, el contexto permite lograr una buena clasificación (eg: avión ocultandose tras una nube en una secuencia de video)\n",
    "+ unidad fundamental: celda, procesa la información de forma secuencial utilizando la memoria h con la información del presente.\n",
    "+ el valor de la memoria se propaga al futuro hasta que la secuencia termina\n",
    "+ igual que en una red tradicional, se calcula el producto entre una matriz y el vector de input.\n",
    "+ h_t = tanh( W dot h_(t-1) + U dot x_t + b)  : estado oculto del paso temporal actual"
   ]
  },
  {
   "cell_type": "markdown",
   "metadata": {},
   "source": [
    "#### Problemas:\n",
    "+ en secuencias largas se pierde la información de memoria\n",
    "+ inestabilidades numéricas que dificultan el entrenamiento (ie: desaparición del gradiente)\n",
    "\n",
    "#### Solución LSTM, GRU:\n",
    "+ Celdas recurrentes con compuertas (operaciones multiplicativas adicionales)\n",
    "+ amplian memoria en la red\n",
    "+ seleccionan información a recordar u olvidar\n",
    "+ Long Short Term Memory\n",
    "+ Gated Recurrent Unit\n",
    "\n",
    "#### LSTM\n",
    "+ dos estados de memoria: 'cell state' o largo plazo, 'hidden state' o celda básica\n",
    "+ operaciones para olvidar, actualizar y definir salida de celda\n",
    "\n",
    "#### GRU\n",
    "+ combina compuertas de recordar y actualizar en una sola\n",
    "+ menos parámetros que LSTM a cambio de rendimiento ligeramente inferior\n"
   ]
  },
  {
   "cell_type": "code",
   "execution_count": 1,
   "metadata": {},
   "outputs": [],
   "source": [
    "# buscar ejemplo con criticas IMDB y clasificación torch con redes recurrentes"
   ]
  },
  {
   "cell_type": "code",
   "execution_count": null,
   "metadata": {},
   "outputs": [],
   "source": []
  }
 ],
 "metadata": {
  "kernelspec": {
   "display_name": "Python 3",
   "language": "python",
   "name": "python3"
  },
  "language_info": {
   "codemirror_mode": {
    "name": "ipython",
    "version": 3
   },
   "file_extension": ".py",
   "mimetype": "text/x-python",
   "name": "python",
   "nbconvert_exporter": "python",
   "pygments_lexer": "ipython3",
   "version": "3.7.9"
  }
 },
 "nbformat": 4,
 "nbformat_minor": 4
}
